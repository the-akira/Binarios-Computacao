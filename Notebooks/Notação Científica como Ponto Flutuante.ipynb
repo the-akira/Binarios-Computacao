{
 "cells": [
  {
   "cell_type": "markdown",
   "metadata": {},
   "source": [
    "# Apresentar Notação Científica como Ponto Flutuante\n",
    "\n",
    "## Criando Valores"
   ]
  },
  {
   "cell_type": "markdown",
   "metadata": {},
   "source": [
    "Criando um número em notação científica"
   ]
  },
  {
   "cell_type": "code",
   "execution_count": 12,
   "metadata": {},
   "outputs": [],
   "source": [
    "valor_notacao_cientifica = 12.32000000e-02"
   ]
  },
  {
   "cell_type": "markdown",
   "metadata": {},
   "source": [
    "Criando um vetor de números em notação científica"
   ]
  },
  {
   "cell_type": "code",
   "execution_count": 6,
   "metadata": {},
   "outputs": [],
   "source": [
    "vetor_notacao_cientifica = [\n",
    "        6.32000000e-03,\n",
    "        1.80000000e+01,\n",
    "        2.81000000e+00,\n",
    "        0.00000000e+00,\n",
    "        5.38000000e-01,\n",
    "        9.57500000e+00,\n",
    "        5.52000000e+01,\n",
    "        3.09000000e+00,\n",
    "        2.00000000e+00,\n",
    "        2.96000000e+02,\n",
    "        1.73000000e+01,\n",
    "        3.46900000e+02,\n",
    "        4.78000000e+00\n",
    "]"
   ]
  },
  {
   "cell_type": "markdown",
   "metadata": {},
   "source": [
    "### Apresentando Valores como Ponto Flutuante"
   ]
  },
  {
   "cell_type": "markdown",
   "metadata": {},
   "source": [
    "Mostrando um valor como ponto flutuante"
   ]
  },
  {
   "cell_type": "code",
   "execution_count": 13,
   "metadata": {},
   "outputs": [
    {
     "data": {
      "text/plain": [
       "'0.123200'"
      ]
     },
     "execution_count": 13,
     "metadata": {},
     "output_type": "execute_result"
    }
   ],
   "source": [
    "f'{valor_notacao_cientifica:f}'"
   ]
  },
  {
   "cell_type": "markdown",
   "metadata": {},
   "source": [
    "Mostrando os valores do vetor como ponto flutuante"
   ]
  },
  {
   "cell_type": "code",
   "execution_count": 16,
   "metadata": {},
   "outputs": [
    {
     "data": {
      "text/plain": [
       "['0.006320',\n",
       " '18.000000',\n",
       " '2.810000',\n",
       " '0.000000',\n",
       " '0.538000',\n",
       " '9.575000',\n",
       " '55.200000',\n",
       " '3.090000',\n",
       " '2.000000',\n",
       " '296.000000',\n",
       " '17.300000',\n",
       " '346.900000',\n",
       " '4.780000']"
      ]
     },
     "execution_count": 16,
     "metadata": {},
     "output_type": "execute_result"
    }
   ],
   "source": [
    "[f'{x:f}' for x in vetor_notacao_cientifica]"
   ]
  }
 ],
 "metadata": {
  "kernelspec": {
   "display_name": "Python 3",
   "language": "python",
   "name": "python3"
  },
  "language_info": {
   "codemirror_mode": {
    "name": "ipython",
    "version": 3
   },
   "file_extension": ".py",
   "mimetype": "text/x-python",
   "name": "python",
   "nbconvert_exporter": "python",
   "pygments_lexer": "ipython3",
   "version": "3.7.7"
  }
 },
 "nbformat": 4,
 "nbformat_minor": 4
}
